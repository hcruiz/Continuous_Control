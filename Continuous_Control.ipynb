{
 "cells": [
  {
   "cell_type": "markdown",
   "metadata": {},
   "source": [
    "# Continuous Control\n",
    "\n",
    "---\n",
    "\n",
    "In this notebook, you will learn how to use the Unity ML-Agents environment for the second project of the [Deep Reinforcement Learning Nanodegree](https://www.udacity.com/course/deep-reinforcement-learning-nanodegree--nd893) program.\n",
    "\n",
    "### 1. Start the Environment\n",
    "\n",
    "We begin by importing the necessary packages.  If the code cell below returns an error, please revisit the project instructions to double-check that you have installed [Unity ML-Agents](https://github.com/Unity-Technologies/ml-agents/blob/master/docs/Installation.md) and [NumPy](http://www.numpy.org/)."
   ]
  },
  {
   "cell_type": "code",
   "execution_count": 1,
   "metadata": {},
   "outputs": [],
   "source": [
    "from unityagents import UnityEnvironment\n",
    "import numpy as np"
   ]
  },
  {
   "cell_type": "markdown",
   "metadata": {},
   "source": [
    "Next, we will start the environment!  **_Before running the code cell below_**, change the `file_name` parameter to match the location of the Unity environment that you downloaded.\n",
    "\n",
    "- **Mac**: `\"path/to/Reacher.app\"`\n",
    "- **Windows** (x86): `\"path/to/Reacher_Windows_x86/Reacher.exe\"`\n",
    "- **Windows** (x86_64): `\"path/to/Reacher_Windows_x86_64/Reacher.exe\"`\n",
    "- **Linux** (x86): `\"path/to/Reacher_Linux/Reacher.x86\"`\n",
    "- **Linux** (x86_64): `\"path/to/Reacher_Linux/Reacher.x86_64\"`\n",
    "- **Linux** (x86, headless): `\"path/to/Reacher_Linux_NoVis/Reacher.x86\"`\n",
    "- **Linux** (x86_64, headless): `\"path/to/Reacher_Linux_NoVis/Reacher.x86_64\"`\n",
    "\n",
    "For instance, if you are using a Mac, then you downloaded `Reacher.app`.  If this file is in the same folder as the notebook, then the line below should appear as follows:\n",
    "```\n",
    "env = UnityEnvironment(file_name=\"Reacher.app\")\n",
    "```"
   ]
  },
  {
   "cell_type": "code",
   "execution_count": 2,
   "metadata": {},
   "outputs": [
    {
     "name": "stderr",
     "output_type": "stream",
     "text": [
      "INFO:unityagents:\n",
      "'Academy' started successfully!\n",
      "Unity Academy name: Academy\n",
      "        Number of Brains: 1\n",
      "        Number of External Brains : 1\n",
      "        Lesson number : 0\n",
      "        Reset Parameters :\n",
      "\t\tgoal_speed -> 1.0\n",
      "\t\tgoal_size -> 5.0\n",
      "Unity brain name: ReacherBrain\n",
      "        Number of Visual Observations (per agent): 0\n",
      "        Vector Observation space type: continuous\n",
      "        Vector Observation space size (per agent): 33\n",
      "        Number of stacked Vector Observation: 1\n",
      "        Vector Action space type: continuous\n",
      "        Vector Action space size (per agent): 4\n",
      "        Vector Action descriptions: , , , \n"
     ]
    }
   ],
   "source": [
    "os_file = 'Reacher_Windows_x86_64/Reacher.exe'\n",
    "# os_file = 'Reacher_Linux/Reacher.x86_64' # 'Reacher_Linux_NoVis/Reacher.x86_64'\n",
    "env = UnityEnvironment(file_name=os_file)"
   ]
  },
  {
   "cell_type": "markdown",
   "metadata": {},
   "source": [
    "Environments contain **_brains_** which are responsible for deciding the actions of their associated agents. Here we check for the first brain available, and set it as the default brain we will be controlling from Python."
   ]
  },
  {
   "cell_type": "code",
   "execution_count": 3,
   "metadata": {},
   "outputs": [],
   "source": [
    "# get the default brain\n",
    "brain_name = env.brain_names[0]\n",
    "brain = env.brains[brain_name]"
   ]
  },
  {
   "cell_type": "markdown",
   "metadata": {},
   "source": [
    "### 2. Examine the State and Action Spaces\n",
    "\n",
    "In this environment, a double-jointed arm can move to target locations. A reward of `+0.1` is provided for each step that the agent's hand is in the goal location. Thus, the goal of your agent is to maintain its position at the target location for as many time steps as possible.\n",
    "\n",
    "The observation space consists of `33` variables corresponding to position, rotation, velocity, and angular velocities of the arm.  Each action is a vector with four numbers, corresponding to torque applicable to two joints.  Every entry in the action vector must be a number between `-1` and `1`.\n",
    "\n",
    "Run the code cell below to print some information about the environment."
   ]
  },
  {
   "cell_type": "code",
   "execution_count": 4,
   "metadata": {
    "scrolled": true
   },
   "outputs": [
    {
     "name": "stdout",
     "output_type": "stream",
     "text": [
      "Number of agents: 20\n",
      "Size of each action: 4\n",
      "action description:  ['', '', '', '']\n",
      "vector_observations have shape:  (20, 33)\n",
      "There are 20 agents. Each observes a state with length: 33\n",
      "States is type:  <class 'numpy.ndarray'>\n"
     ]
    }
   ],
   "source": [
    "# reset the environment\n",
    "env_info = env.reset(train_mode=True)[brain_name]\n",
    "\n",
    "# number of agents\n",
    "num_agents = len(env_info.agents)\n",
    "# size of each action\n",
    "action_size = brain.vector_action_space_size\n",
    "# size of the state space \n",
    "states = env_info.vector_observations\n",
    "state_size = states.shape[1]\n",
    "\n",
    "print('Number of agents:', num_agents)\n",
    "print('Size of each action:', action_size)\n",
    "print('action description: ',brain.vector_action_descriptions)\n",
    "print('vector_observations have shape: ',states.shape)\n",
    "print('There are {} agents. Each observes a state with length: {}'.format(states.shape[0], state_size))\n",
    "print('States is type: ',type(states))"
   ]
  },
  {
   "cell_type": "markdown",
   "metadata": {},
   "source": [
    "### 3. Take Random Actions in the Environment\n",
    "\n",
    "In the next code cell, you will learn how to use the Python API to control the agent and receive feedback from the environment.\n",
    "\n",
    "Once this cell is executed, you will watch the agent's performance, if it selects an action at random with each time step.  A window should pop up that allows you to observe the agent, as it moves through the environment.  \n",
    "\n",
    "Of course, as part of the project, you'll have to change the code so that the agent is able to use its experience to gradually choose better actions when interacting with the environment!"
   ]
  },
  {
   "cell_type": "code",
   "execution_count": 5,
   "metadata": {},
   "outputs": [
    {
     "name": "stdout",
     "output_type": "stream",
     "text": [
      "using device:  cpu\n"
     ]
    }
   ],
   "source": [
    "import time\n",
    "import numpy as np\n",
    "# keep track of how long training takes\n",
    "# widget bar to display progress\n",
    "#!pip install progressbar\n",
    "import matplotlib.pyplot as plt\n",
    "import progressbar as pb\n",
    "import torch\n",
    "import torch.optim as optim\n",
    "from ACnets import Policy, Critic\n",
    "\n",
    "# Get device available\n",
    "device = torch.device(\"cuda:0\" if torch.cuda.is_available() else \"cpu\")\n",
    "print(\"using device: \",device)\n"
   ]
  },
  {
   "cell_type": "markdown",
   "metadata": {},
   "source": [
    "When finished, you can close the environment."
   ]
  },
  {
   "cell_type": "code",
   "execution_count": 26,
   "metadata": {},
   "outputs": [],
   "source": [
    "def get_samples(env, policy, critic, noise=1., train_mode=True):\n",
    "    brain_name = env.brain_names[0]\n",
    "    env_info = env.reset(train_mode=train_mode)[brain_name]     # reset the environment    \n",
    "    # get the current state (for each agent)\n",
    "    states = env_info.vector_observations \n",
    "    # initialize containers\n",
    "    scores = np.zeros(num_agents)                          \n",
    "    States, Mact, Actions, Rewards, Vs = [], [], [], [], []\n",
    "    #loop until episode is done\n",
    "    while True:\n",
    "        states = torch.tensor(states,dtype=torch.float,device=device)\n",
    "        mu_actions = policy(states).cpu().detach().numpy()\n",
    "        actions = mu_actions + noise*np.random.randn(num_agents, action_size) # select an action (for each agent)\n",
    "        actions = np.clip(actions, -1, 1)                                     # all actions between -1 and 1\n",
    "        env_info = env.step(actions)[brain_name]           # send all actions to tne environment\n",
    "        next_states = env_info.vector_observations         # get next state (for each agent)\n",
    "        rewards = env_info.rewards                         # get reward (for each agent)\n",
    "        dones = env_info.local_done                        # see if episode finished\n",
    "        scores += env_info.rewards                         # update the score (for each agent)\n",
    "        s_vals = critic(states).cpu().detach().numpy()     # get state value\n",
    "        #add info to episode lists\n",
    "        States.append(states.cpu().detach().numpy())\n",
    "        Mact.append(mu_actions)\n",
    "        Actions.append(actions)\n",
    "        Rewards.append(np.array(rewards))\n",
    "        Vs.append(s_vals)\n",
    "        #perform step\n",
    "        states = next_states                               # roll over states to next time step\n",
    "        if np.any(dones):                                  # exit loop if episode finished\n",
    "            break\n",
    "    \n",
    "    States = np.asarray(States)\n",
    "    Mact = np.asarray(Mact)\n",
    "    Actions = np.asarray(Actions)\n",
    "    Rewards = np.asarray(Rewards)\n",
    "    Vs = np.squeeze(np.asarray(Vs))\n",
    "    return States, Mact, Actions, Rewards, Vs, scores"
   ]
  },
  {
   "cell_type": "markdown",
   "metadata": {},
   "source": [
    "### 4. It's Your Turn!\n",
    "\n",
    "Now it's your turn to train your own agent to solve the environment!  When training the environment, set `train_mode=True`, so that the line for resetting the environment looks like the following:\n",
    "```python\n",
    "env_info = env.reset(train_mode=True)[brain_name]\n",
    "```"
   ]
  },
  {
   "cell_type": "code",
   "execution_count": 27,
   "metadata": {},
   "outputs": [],
   "source": [
    "def norm_returns(rewards, discount):\n",
    "    discouted_rewards =  np.asarray([rewards[i]*discount**i for i in range(len(rewards))],dtype=np.float32)\n",
    "    #convert to future rewards\n",
    "    future_rewards = np.cumsum(discouted_rewards[::-1],axis=0)[::-1]\n",
    "    returns = future_rewards.copy()\n",
    "    #normalize rewards\n",
    "#     mu = np.mean(future_rewards,axis=1)\n",
    "#     stdv = np.std(future_rewards,axis=1) + 1.e-10\n",
    "#     returns = (future_rewards - mu[:,np.newaxis])/stdv[:,np.newaxis]\n",
    "#     print(returns.shape)\n",
    "    return returns\n",
    "\n",
    "def advantage_estimate(rewards, discount, Vs, lmda):\n",
    "    V_next = np.concatenate((Vs[1:],np.zeros(Vs[0].shape)[np.newaxis]),axis=0)\n",
    "    TD_error = rewards + discount*V_next - Vs\n",
    "    truncation_weights = [[(discount*lmda)**i] for i in range(len(rewards))]\n",
    "    advantage = [np.sum(TD_error[i:]*truncation_weights[::-1][i:][::-1],axis=0) for i in range(len(rewards))]\n",
    "    advantage = np.asarray(advantage)\n",
    "    return advantage"
   ]
  },
  {
   "cell_type": "code",
   "execution_count": 13,
   "metadata": {},
   "outputs": [
    {
     "name": "stdout",
     "output_type": "stream",
     "text": [
      "Actor has input size 33  hidden layer 1 size:  256  hidden layer 2 size:  256  action_size 4\n",
      "Critic has input size 33  hidden layer 1 size:  256  hidden layer 2 size:  256\n"
     ]
    }
   ],
   "source": [
    "# initialize actor and critic \n",
    "policy = Policy(state_size, action_size).to(device)\n",
    "critic = Critic(state_size).to(device)"
   ]
  },
  {
   "cell_type": "code",
   "execution_count": 14,
   "metadata": {},
   "outputs": [
    {
     "name": "stdout",
     "output_type": "stream",
     "text": [
      "0.5274999882094562\n",
      "(1001, 20, 33) (1001, 20, 4) (1001, 20, 4) (1001, 20) (1001, 20)\n"
     ]
    }
   ],
   "source": [
    "States, Mact, Actions, Rewards, Vs, scores = get_samples(env, policy, critic, noise=0.1)\n",
    "print(np.mean(scores))\n",
    "print(States.shape, Mact.shape, Actions.shape, Rewards.shape, Vs.shape)"
   ]
  },
  {
   "cell_type": "code",
   "execution_count": 17,
   "metadata": {},
   "outputs": [
    {
     "name": "stdout",
     "output_type": "stream",
     "text": [
      "1000.5 0.5\n",
      "(1001, 20)\n",
      "4.35889893520734 -1.219710235083998\n",
      "(1001, 20) (1001, 20)\n"
     ]
    },
    {
     "data": {
      "text/plain": [
       "([array([761., 230.,  10.,   0.,   0.,   0.,   0.,   0.,   0.,   0.]),\n",
       "  array([  0., 167.,  35., 486., 290.,  23.,   0.,   0.,   0.,   0.]),\n",
       "  array([761., 230.,  10.,   0.,   0.,   0.,   0.,   0.,   0.,   0.]),\n",
       "  array([761., 230.,  10.,   0.,   0.,   0.,   0.,   0.,   0.,   0.]),\n",
       "  array([592., 399.,  10.,   0.,   0.,   0.,   0.,   0.,   0.,   0.]),\n",
       "  array([729., 262.,  10.,   0.,   0.,   0.,   0.,   0.,   0.,   0.]),\n",
       "  array([  0., 120.,  11.,  53., 453., 364.,   0.,   0.,   0.,   0.]),\n",
       "  array([  0.,  36.,  95.,  39., 206., 238., 326.,  61.,   0.,   0.]),\n",
       "  array([178., 660., 124.,  39.,   0.,   0.,   0.,   0.,   0.,   0.]),\n",
       "  array([  0., 168.,  12.,  35., 371., 327.,  88.,   0.,   0.,   0.]),\n",
       "  array([761., 230.,  10.,   0.,   0.,   0.,   0.,   0.,   0.,   0.]),\n",
       "  array([  0., 121., 345., 461.,  29.,  45.,   0.,   0.,   0.,   0.]),\n",
       "  array([  0.,   0., 451., 351.,  24.,   5.,  47.,   3.,  33.,  87.]),\n",
       "  array([761., 230.,  10.,   0.,   0.,   0.,   0.,   0.,   0.,   0.]),\n",
       "  array([495., 327.,  71., 108.,   0.,   0.,   0.,   0.,   0.,   0.]),\n",
       "  array([200., 790.,  11.,   0.,   0.,   0.,   0.,   0.,   0.,   0.]),\n",
       "  array([671., 320.,  10.,   0.,   0.,   0.,   0.,   0.,   0.,   0.]),\n",
       "  array([  0.,  85.,  11., 347., 411.,  88.,  44.,  15.,   0.,   0.]),\n",
       "  array([761., 230.,  10.,   0.,   0.,   0.,   0.,   0.,   0.,   0.]),\n",
       "  array([269., 249., 182., 138., 163.,   0.,   0.,   0.,   0.,   0.])],\n",
       " array([-1.21971024, -0.66184932, -0.1039884 ,  0.45387252,  1.01173343,\n",
       "         1.56959435,  2.12745527,  2.68531618,  3.2431771 ,  3.80103802,\n",
       "         4.35889894]),\n",
       " <a list of 20 Lists of Patches objects>)"
      ]
     },
     "execution_count": 17,
     "metadata": {},
     "output_type": "execute_result"
    },
    {
     "data": {
      "image/png": "[encoded data removed]",
      "text/plain": [
       "<Figure size 432x288 with 1 Axes>"
      ]
     },
     "metadata": {
      "needs_background": "light"
     },
     "output_type": "display_data"
    }
   ],
   "source": [
    "discount, lmda = 1,1\n",
    "Adv = advantage_estimate(np.ones_like(Rewards), discount, 0.5*np.ones_like(Vs), lmda)\n",
    "print(Adv.max(),Adv.min())\n",
    "Ret = norm_returns(Rewards, discount)\n",
    "print(Ret.max(),Ret.min())\n",
    "print(Adv.shape,Ret.shape)\n",
    "plt.hist(Ret)"
   ]
  },
  {
   "cell_type": "code",
   "execution_count": 28,
   "metadata": {},
   "outputs": [],
   "source": [
    "def PPO(policy, states, mean_actions, actions, advantage, noise, epsilon=0.1, debug=False):\n",
    "\n",
    "    # convert states to policy\n",
    "    new_means = policy(states)\n",
    "    #compute probabilities ratio = new_probs/old_probs\n",
    "    Delta = torch.norm(actions-mean_actions,p=None,dim=-1)**2 - torch.norm(actions-new_means,p=None,dim=-1)**2\n",
    "    ratio = torch.exp(Delta/(2*noise**2))\n",
    "    if debug:\n",
    "        print(ratio)\n",
    "        print((new_means-mean_actions).mean(),((new_means-mean_actions)**2).max())\n",
    "\n",
    "    #compute returns and clipped function\n",
    "    min_ratio = torch.min(advantage*ratio, advantage*torch.clamp(ratio, 1-epsilon, 1+epsilon))\n",
    "    \n",
    "    return -torch.mean(min_ratio)\n",
    "\n",
    "def Lcritic(critic, states, returns_estimation):\n",
    "    # convert states to value\n",
    "    values = critic(states).view(-1)\n",
    "    return torch.nn.functional.mse_loss(returns_estimation, values)\n",
    "\n",
    "def get_minibatches(data_size, batch_size, suffle=True):\n",
    "    indices = np.arange(data_size)\n",
    "    if suffle:\n",
    "        np.random.shuffle(indices)\n",
    "    for mb in range(0,data_size-batch_size + 1, batch_size):\n",
    "        get_indx = indices[mb:mb+batch_size]\n",
    "        yield get_indx"
   ]
  },
  {
   "cell_type": "code",
   "execution_count": 54,
   "metadata": {},
   "outputs": [],
   "source": [
    "#When working in udacity's workspace, avoid sleeping:\n",
    "#from workspace_utils import keep_awake --> keep_awake(range(episode))\n",
    "\n",
    "# hyper-parameters\n",
    "episode = 50\n",
    "\n",
    "def train(envs, policy, critic, episode, lr_act=2e-4, lr_crit=1e-4, discount=.99, lmda=0.95,\n",
    "          noise=1., noise_decay=0.98, epsilon=0.2, SGD_epoch=3, batch_size=64):\n",
    "    \n",
    "    widget = ['training loop: ', pb.Percentage(), ' ', pb.Bar(), ' ', pb.ETA() ]\n",
    "    timer = pb.ProgressBar(widgets=widget, maxval=episode).start()\n",
    "    \n",
    "    optimizer = optim.Adam(policy.parameters(), lr=lr_act)\n",
    "    critic_optimizer = optim.Adam(critic.parameters(), lr=lr_crit)\n",
    "\n",
    "    # keep track of progress\n",
    "    mean_rewards = []\n",
    "    ploss = []\n",
    "    closs = []\n",
    "\n",
    "    for e in range(episode):\n",
    "\n",
    "        # collect trajectories\n",
    "        States, Mact, Actions, Rewards, Vs, scores = get_samples(envs, policy, critic, noise=noise)\n",
    "        # return estimation \n",
    "        returns_estimation = norm_returns(Rewards, discount)\n",
    "        #get advantage estimation\n",
    "        advantage = advantage_estimate(Rewards, discount, Vs, lmda)\n",
    "        #normalize advantage\n",
    "        advantage = (advantage - np.mean(advantage))/(np.std(advantage)+1.e-10) \n",
    "\n",
    "        total_rewards = np.sum(Rewards, axis=0)\n",
    "\n",
    "        #transform to tensors and flatten: States, Mact, Actions, advantage,returns_estimation\n",
    "        States = torch.tensor(States, dtype=torch.float, device=device).view(-1,States.shape[-1])\n",
    "        returns_estimation = torch.tensor(returns_estimation, dtype=torch.float, device=device).view(-1)\n",
    "        advantage = torch.tensor(advantage, dtype=torch.float, device=device).view(-1)\n",
    "        Actions = torch.tensor(Actions, dtype=torch.float, device=device).view(-1,Actions.shape[-1])\n",
    "        Mact = torch.tensor(Mact, dtype=torch.float, device=device).view(-1,Mact.shape[-1])\n",
    "\n",
    "        # gradient ascent step\n",
    "        for _ in range(SGD_epoch):\n",
    "            \n",
    "            for minibatch in get_minibatches(len(States), batch_size):\n",
    "                states, m_act, actions, adv = States[minibatch], Mact[minibatch], Actions[minibatch], advantage[minibatch]\n",
    "                returns = returns_estimation[minibatch]\n",
    "#                 print(states.shape, m_act.shape, actions.shape, adv.shape, returns.shape)\n",
    "                #PPO return function\n",
    "                policy_loss = PPO(policy, states, m_act, actions, adv, noise, epsilon=epsilon)\n",
    "                # Critic loss\n",
    "                critic_loss = Lcritic(critic, states, returns)\n",
    "                #update policy\n",
    "                optimizer.zero_grad()\n",
    "                policy_loss.backward()\n",
    "                optimizer.step()\n",
    "                #update critic\n",
    "                critic_optimizer.zero_grad()\n",
    "                critic_loss.backward()\n",
    "                critic_optimizer.step()\n",
    "                \n",
    "            policy_loss = PPO(policy, States, Mact, Actions, advantage, noise, epsilon=epsilon, debug=False)\n",
    "            critic_loss = Lcritic(critic, States, returns_estimation)  \n",
    "            ploss.append(policy_loss.data)\n",
    "            closs.append(critic_loss.data)\n",
    "                \n",
    "            #print(policy_loss.data)\n",
    "        # the clipping parameter and noise reduces as time goes on\n",
    "        epsilon*=.999\n",
    "        noise *= noise_decay # this reduces exploration in later runs\n",
    "\n",
    "        # get the average reward of the parallel environments\n",
    "        mean_rewards.append(np.mean(total_rewards))\n",
    "\n",
    "        # display some progress every 20 iterations\n",
    "        if (e+1)%5 ==0 :\n",
    "            print(\"Episode: {0:d}, score (averaged over agents): {1:f}\".format(e+1,np.mean(total_rewards)))\n",
    "            print(\"Policy loss: {} | Critic loss: {}\".format(policy_loss.data,critic_loss.data))\n",
    "            #print(total_rewards)\n",
    "\n",
    "        # update progress widget bar\n",
    "        timer.update(e+1)\n",
    "\n",
    "    timer.finish()\n",
    "    return mean_rewards, ploss, closs"
   ]
  },
  {
   "cell_type": "code",
   "execution_count": 55,
   "metadata": {},
   "outputs": [
    {
     "name": "stdout",
     "output_type": "stream",
     "text": [
      "Actor has input size 33  hidden layer 1 size:  256  hidden layer 2 size:  256  action_size 4\n",
      "Critic has input size 33  hidden layer 1 size:  256  hidden layer 2 size:  256\n"
     ]
    }
   ],
   "source": [
    "inputsize, action_size = state_size, action_size\n",
    "policy = Policy(inputsize, action_size).to(device)\n",
    "critic = Critic(inputsize).to(device)"
   ]
  },
  {
   "cell_type": "code",
   "execution_count": 56,
   "metadata": {
    "scrolled": false
   },
   "outputs": [
    {
     "name": "stderr",
     "output_type": "stream",
     "text": [
      "training loop:   3% |#                                          | ETA:  1:47:13\r"
     ]
    },
    {
     "name": "stdout",
     "output_type": "stream",
     "text": [
      "Episode: 5, score (averaged over agents): 0.451000\n",
      "Policy loss: -0.03683508187532425 | Critic loss: 0.00011589968926273286\n"
     ]
    },
    {
     "name": "stderr",
     "output_type": "stream",
     "text": [
      "training loop:   6% |##                                         | ETA:  1:44:03\r"
     ]
    },
    {
     "name": "stdout",
     "output_type": "stream",
     "text": [
      "Episode: 10, score (averaged over agents): 1.731000\n",
      "Policy loss: -0.05652188882231712 | Critic loss: 0.0006474917172454298\n"
     ]
    },
    {
     "name": "stderr",
     "output_type": "stream",
     "text": [
      "training loop:  10% |####                                       | ETA:  1:41:08\r"
     ]
    },
    {
     "name": "stdout",
     "output_type": "stream",
     "text": [
      "Episode: 15, score (averaged over agents): 2.367000\n",
      "Policy loss: -0.0528721809387207 | Critic loss: 0.0013017667224630713\n"
     ]
    },
    {
     "name": "stderr",
     "output_type": "stream",
     "text": [
      "training loop:  13% |#####                                      | ETA:  1:38:25\r"
     ]
    },
    {
     "name": "stdout",
     "output_type": "stream",
     "text": [
      "Episode: 20, score (averaged over agents): 3.025000\n",
      "Policy loss: -0.057698994874954224 | Critic loss: 0.0009837383404374123\n"
     ]
    },
    {
     "name": "stderr",
     "output_type": "stream",
     "text": [
      "training loop:  16% |#######                                    | ETA:  1:35:59\r"
     ]
    },
    {
     "name": "stdout",
     "output_type": "stream",
     "text": [
      "Episode: 25, score (averaged over agents): 4.487000\n",
      "Policy loss: -0.0563729852437973 | Critic loss: 0.0021843810100108385\n"
     ]
    },
    {
     "name": "stderr",
     "output_type": "stream",
     "text": [
      "training loop:  20% |########                                   | ETA:  1:33:38\r"
     ]
    },
    {
     "name": "stdout",
     "output_type": "stream",
     "text": [
      "Episode: 30, score (averaged over agents): 5.849000\n",
      "Policy loss: -0.05647642910480499 | Critic loss: 0.005142091307789087\n"
     ]
    },
    {
     "name": "stderr",
     "output_type": "stream",
     "text": [
      "training loop:  23% |##########                                 | ETA:  1:31:31\r"
     ]
    },
    {
     "name": "stdout",
     "output_type": "stream",
     "text": [
      "Episode: 35, score (averaged over agents): 7.073500\n",
      "Policy loss: -0.05923021584749222 | Critic loss: 0.0060060471296310425\n"
     ]
    },
    {
     "name": "stderr",
     "output_type": "stream",
     "text": [
      "training loop:  26% |###########                                | ETA:  1:29:27\r"
     ]
    },
    {
     "name": "stdout",
     "output_type": "stream",
     "text": [
      "Episode: 40, score (averaged over agents): 8.036000\n",
      "Policy loss: -0.056812409311532974 | Critic loss: 0.007165066432207823\n"
     ]
    },
    {
     "name": "stderr",
     "output_type": "stream",
     "text": [
      "training loop:  30% |############                               | ETA:  1:27:21\r"
     ]
    },
    {
     "name": "stdout",
     "output_type": "stream",
     "text": [
      "Episode: 45, score (averaged over agents): 6.695000\n",
      "Policy loss: -0.0022453032433986664 | Critic loss: 0.004008280113339424\n"
     ]
    },
    {
     "name": "stderr",
     "output_type": "stream",
     "text": [
      "training loop:  33% |##############                             | ETA:  1:24:58\r"
     ]
    },
    {
     "name": "stdout",
     "output_type": "stream",
     "text": [
      "Episode: 50, score (averaged over agents): 7.832500\n",
      "Policy loss: -0.04644623398780823 | Critic loss: 0.007927210070192814\n"
     ]
    },
    {
     "name": "stderr",
     "output_type": "stream",
     "text": [
      "training loop:  36% |###############                            | ETA:  1:22:14\r"
     ]
    },
    {
     "name": "stdout",
     "output_type": "stream",
     "text": [
      "Episode: 55, score (averaged over agents): 6.768500\n",
      "Policy loss: -0.03537113964557648 | Critic loss: 0.006997089367359877\n"
     ]
    },
    {
     "name": "stderr",
     "output_type": "stream",
     "text": [
      "training loop:  40% |#################                          | ETA:  1:19:22\r"
     ]
    },
    {
     "name": "stdout",
     "output_type": "stream",
     "text": [
      "Episode: 60, score (averaged over agents): 7.400000\n",
      "Policy loss: -0.035274937748909 | Critic loss: 0.004499098751693964\n"
     ]
    },
    {
     "name": "stderr",
     "output_type": "stream",
     "text": [
      "training loop:  43% |##################                         | ETA:  1:16:15\r"
     ]
    },
    {
     "name": "stdout",
     "output_type": "stream",
     "text": [
      "Episode: 65, score (averaged over agents): 7.387000\n",
      "Policy loss: -0.023843813687562943 | Critic loss: 0.005321772303432226\n"
     ]
    },
    {
     "name": "stderr",
     "output_type": "stream",
     "text": [
      "training loop:  46% |####################                       | ETA:  1:12:57\r"
     ]
    },
    {
     "name": "stdout",
     "output_type": "stream",
     "text": [
      "Episode: 70, score (averaged over agents): 9.231000\n",
      "Policy loss: -0.038040321320295334 | Critic loss: 0.011791082099080086\n"
     ]
    },
    {
     "name": "stderr",
     "output_type": "stream",
     "text": [
      "training loop:  50% |#####################                      | ETA:  1:09:28\r"
     ]
    },
    {
     "name": "stdout",
     "output_type": "stream",
     "text": [
      "Episode: 75, score (averaged over agents): 7.969500\n",
      "Policy loss: -0.01829332299530506 | Critic loss: 0.009390085935592651\n"
     ]
    },
    {
     "name": "stderr",
     "output_type": "stream",
     "text": [
      "training loop:  53% |######################                     | ETA:  1:05:49\r"
     ]
    },
    {
     "name": "stdout",
     "output_type": "stream",
     "text": [
      "Episode: 80, score (averaged over agents): 7.746000\n",
      "Policy loss: -0.029703855514526367 | Critic loss: 0.008591428399085999\n"
     ]
    },
    {
     "name": "stderr",
     "output_type": "stream",
     "text": [
      "training loop:  56% |########################                   | ETA:  1:02:01\r"
     ]
    },
    {
     "name": "stdout",
     "output_type": "stream",
     "text": [
      "Episode: 85, score (averaged over agents): 5.980000\n",
      "Policy loss: -0.017252087593078613 | Critic loss: 0.005523249506950378\n"
     ]
    },
    {
     "name": "stderr",
     "output_type": "stream",
     "text": [
      "training loop:  60% |#########################                  | ETA:  0:58:03\r"
     ]
    },
    {
     "name": "stdout",
     "output_type": "stream",
     "text": [
      "Episode: 90, score (averaged over agents): 9.980500\n",
      "Policy loss: -0.016433745622634888 | Critic loss: 0.010052564553916454\n"
     ]
    },
    {
     "name": "stderr",
     "output_type": "stream",
     "text": [
      "training loop:  63% |###########################                | ETA:  0:53:53\r"
     ]
    },
    {
     "name": "stdout",
     "output_type": "stream",
     "text": [
      "Episode: 95, score (averaged over agents): 14.525000\n",
      "Policy loss: -0.019521018490195274 | Critic loss: 0.020298251882195473\n"
     ]
    },
    {
     "name": "stderr",
     "output_type": "stream",
     "text": [
      "training loop:  66% |############################               | ETA:  0:49:32\r"
     ]
    },
    {
     "name": "stdout",
     "output_type": "stream",
     "text": [
      "Episode: 100, score (averaged over agents): 11.524500\n",
      "Policy loss: -0.022842923179268837 | Critic loss: 0.022785259410738945\n"
     ]
    },
    {
     "name": "stderr",
     "output_type": "stream",
     "text": [
      "training loop:  70% |##############################             | ETA:  0:45:03\r"
     ]
    },
    {
     "name": "stdout",
     "output_type": "stream",
     "text": [
      "Episode: 105, score (averaged over agents): 10.566500\n",
      "Policy loss: -0.002762902295216918 | Critic loss: 0.013054588809609413\n"
     ]
    },
    {
     "name": "stderr",
     "output_type": "stream",
     "text": [
      "training loop:  73% |###############################            | ETA:  0:40:27\r"
     ]
    },
    {
     "name": "stdout",
     "output_type": "stream",
     "text": [
      "Episode: 110, score (averaged over agents): 8.566000\n",
      "Policy loss: -0.006244206335395575 | Critic loss: 0.011881659738719463\n"
     ]
    },
    {
     "name": "stderr",
     "output_type": "stream",
     "text": [
      "training loop:  76% |################################           | ETA:  0:35:43\r"
     ]
    },
    {
     "name": "stdout",
     "output_type": "stream",
     "text": [
      "Episode: 115, score (averaged over agents): 7.177500\n",
      "Policy loss: 8.617873390903696e-05 | Critic loss: 0.004757335409522057\n"
     ]
    },
    {
     "name": "stderr",
     "output_type": "stream",
     "text": [
      "training loop:  80% |##################################         | ETA:  0:30:53\r"
     ]
    },
    {
     "name": "stdout",
     "output_type": "stream",
     "text": [
      "Episode: 120, score (averaged over agents): 5.704500\n",
      "Policy loss: 0.016940424218773842 | Critic loss: 0.007939097471535206\n"
     ]
    },
    {
     "name": "stderr",
     "output_type": "stream",
     "text": [
      "training loop:  83% |###################################        | ETA:  0:25:59\r"
     ]
    },
    {
     "name": "stdout",
     "output_type": "stream",
     "text": [
      "Episode: 125, score (averaged over agents): 3.043500\n",
      "Policy loss: 0.026893138885498047 | Critic loss: 0.0025371077936142683\n"
     ]
    },
    {
     "name": "stderr",
     "output_type": "stream",
     "text": [
      "training loop:  86% |#####################################      | ETA:  0:20:58\r"
     ]
    },
    {
     "name": "stdout",
     "output_type": "stream",
     "text": [
      "Episode: 130, score (averaged over agents): 1.623500\n",
      "Policy loss: 0.028150023892521858 | Critic loss: 0.00044270799844525754\n"
     ]
    },
    {
     "name": "stderr",
     "output_type": "stream",
     "text": [
      "training loop:  90% |######################################     | ETA:  0:15:52\r"
     ]
    },
    {
     "name": "stdout",
     "output_type": "stream",
     "text": [
      "Episode: 135, score (averaged over agents): 3.114500\n",
      "Policy loss: 0.0430305115878582 | Critic loss: 0.003021574579179287\n"
     ]
    },
    {
     "name": "stderr",
     "output_type": "stream",
     "text": [
      "training loop:  93% |########################################   | ETA:  0:10:41\r"
     ]
    },
    {
     "name": "stdout",
     "output_type": "stream",
     "text": [
      "Episode: 140, score (averaged over agents): 0.086500\n",
      "Policy loss: 0.024343766272068024 | Critic loss: 4.1543749830452725e-05\n"
     ]
    },
    {
     "name": "stderr",
     "output_type": "stream",
     "text": [
      "training loop:  96% |#########################################  | ETA:  0:05:24\r"
     ]
    },
    {
     "name": "stdout",
     "output_type": "stream",
     "text": [
      "Episode: 145, score (averaged over agents): 0.056500\n",
      "Policy loss: 0.01032380573451519 | Critic loss: 1.2543603588710539e-05\n"
     ]
    },
    {
     "name": "stderr",
     "output_type": "stream",
     "text": [
      "training loop: 100% |###########################################| Time: 2:43:40\r"
     ]
    },
    {
     "name": "stdout",
     "output_type": "stream",
     "text": [
      "Episode: 150, score (averaged over agents): 0.005000\n",
      "Policy loss: 0.011135893873870373 | Critic loss: 2.787882294796873e-05\n",
      "Networks saved\n"
     ]
    },
    {
     "name": "stderr",
     "output_type": "stream",
     "text": [
      "\n"
     ]
    },
    {
     "data": {
      "image/png": "[encoded data removed]",
      "text/plain": [
       "<Figure size 432x288 with 1 Axes>"
      ]
     },
     "metadata": {
      "needs_background": "light"
     },
     "output_type": "display_data"
    },
    {
     "data": {
      "image/png": "[encoded data removed]",
      "text/plain": [
       "<Figure size 720x360 with 2 Axes>"
      ]
     },
     "metadata": {
      "needs_background": "light"
     },
     "output_type": "display_data"
    }
   ],
   "source": [
    "mean_rewards, ploss, closs = train(env, policy, critic, 60, noise=0.1, noise_decay=1., SGD_epoch=10)\n",
    "# I need to stabilize learning. Possible ways:\n",
    "#  1. decrease noise_decay (tested 0.98 but maybe a bit smaller)\n",
    "#  2. decrease epsilon to 0.1\n",
    "#  3. implement noise learning\n",
    "\n",
    "# Save actor and critic\n",
    "# torch.save(policy.state_dict(), 'Reacher.policy')\n",
    "# torch.save(critic.state_dict(), 'Reacher.critic')\n",
    "# print('Networks saved')"
   ]
  },
  {
   "cell_type": "code",
   "execution_count": 76,
   "metadata": {},
   "outputs": [
    {
     "data": {
      "text/plain": [
       "Text(0.5, 1.0, 'Critic loss')"
      ]
     },
     "execution_count": 76,
     "metadata": {},
     "output_type": "execute_result"
    },
    {
     "data": {
      "image/png": "[encoded data removed]",
      "text/plain": [
       "<Figure size 432x288 with 1 Axes>"
      ]
     },
     "metadata": {
      "needs_background": "light"
     },
     "output_type": "display_data"
    },
    {
     "data": {
      "image/png": "[encoded data removed]",
      "text/plain": [
       "<Figure size 1008x360 with 2 Axes>"
      ]
     },
     "metadata": {
      "needs_background": "light"
     },
     "output_type": "display_data"
    }
   ],
   "source": [
    "plt.figure()\n",
    "plt.plot(mean_rewards,'.-')\n",
    "plt.title(\"Mean rewards\")\n",
    "plt.figure(figsize=(14,5))\n",
    "plt.subplot(121)\n",
    "plt.plot(ploss[::10],'.-')\n",
    "plt.title(\"Policy loss\")\n",
    "plt.subplot(122)\n",
    "plt.plot(closs[::10],'.-')\n",
    "plt.title(\"Critic loss\")\n",
    "#[:100]"
   ]
  },
  {
   "cell_type": "code",
   "execution_count": 71,
   "metadata": {},
   "outputs": [
    {
     "name": "stdout",
     "output_type": "stream",
     "text": [
      "[(0, 1.0), (1, 0.97), (2, 0.9409), (3, 0.912673), (4, 0.8852928099999999), (5, 0.8587340256999999), (6, 0.8329720049289998), (7, 0.8079828447811298), (8, 0.7837433594376959), (9, 0.7602310586545651), (10, 0.7374241268949281), (11, 0.7153014030880802), (12, 0.6938423609954377), (13, 0.6730270901655746), (14, 0.6528362774606074), (15, 0.6332511891367891), (16, 0.6142536534626855), (17, 0.5958260438588049), (18, 0.5779512625430407), (19, 0.5606127246667495), (20, 0.543794342926747), (21, 0.5274805126389446), (22, 0.5116560972597762), (23, 0.49630641434198286), (24, 0.48141722191172337), (25, 0.4669747052543717), (26, 0.4529654640967405), (27, 0.4393765001738383), (28, 0.42619520516862314), (29, 0.4134093490135644), (30, 0.4010070685431575), (31, 0.38897685648686275), (32, 0.37730755079225686), (33, 0.36598832426848915), (34, 0.35500867454043444), (35, 0.3443584143042214), (36, 0.33402766187509475), (37, 0.3240068320188419), (38, 0.31428662705827665), (39, 0.3048580282465283), (40, 0.29571228739913247), (41, 0.2868409187771585), (42, 0.2782356912138437), (43, 0.2698886204774284), (44, 0.26179196186310555), (45, 0.25393820300721237), (46, 0.246320056916996), (47, 0.2389304552094861), (48, 0.23176254155320153), (49, 0.22480966530660546)]\n"
     ]
    }
   ],
   "source": [
    "print([(i, 0.97**i) for i in range(50)])"
   ]
  },
  {
   "cell_type": "code",
   "execution_count": null,
   "metadata": {},
   "outputs": [],
   "source": [
    "env.close()"
   ]
  },
  {
   "cell_type": "code",
   "execution_count": null,
   "metadata": {},
   "outputs": [],
   "source": []
  },
  {
   "cell_type": "code",
   "execution_count": null,
   "metadata": {},
   "outputs": [],
   "source": []
  }
 ],
 "metadata": {
  "kernelspec": {
   "display_name": "drlnd",
   "language": "python",
   "name": "drlnd"
  },
  "language_info": {
   "codemirror_mode": {
    "name": "ipython",
    "version": 3
   },
   "file_extension": ".py",
   "mimetype": "text/x-python",
   "name": "python",
   "nbconvert_exporter": "python",
   "pygments_lexer": "ipython3",
   "version": "3.6.8"
  }
 },
 "nbformat": 4,
 "nbformat_minor": 2
}
