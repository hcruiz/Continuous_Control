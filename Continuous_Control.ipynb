{
 "cells": [
  {
   "cell_type": "markdown",
   "metadata": {},
   "source": [
    "# Continuous Control\n",
    "\n",
    "---\n",
    "\n",
    "In this notebook, you will learn how to use the Unity ML-Agents environment for the second project of the [Deep Reinforcement Learning Nanodegree](https://www.udacity.com/course/deep-reinforcement-learning-nanodegree--nd893) program.\n",
    "\n",
    "### 1. Start the Environment\n",
    "\n",
    "We begin by importing the necessary packages.  If the code cell below returns an error, please revisit the project instructions to double-check that you have installed [Unity ML-Agents](https://github.com/Unity-Technologies/ml-agents/blob/master/docs/Installation.md) and [NumPy](http://www.numpy.org/)."
   ]
  },
  {
   "cell_type": "code",
   "execution_count": 1,
   "metadata": {},
   "outputs": [],
   "source": [
    "# !pip -q install ./python\n",
    "from unityagents import UnityEnvironment\n",
    "import numpy as np"
   ]
  },
  {
   "cell_type": "markdown",
   "metadata": {},
   "source": [
    "Next, we will start the environment!  **_Before running the code cell below_**, change the `file_name` parameter to match the location of the Unity environment that you downloaded.\n",
    "\n",
    "- **Mac**: `\"path/to/Reacher.app\"`\n",
    "- **Windows** (x86): `\"path/to/Reacher_Windows_x86/Reacher.exe\"`\n",
    "- **Windows** (x86_64): `\"path/to/Reacher_Windows_x86_64/Reacher.exe\"`\n",
    "- **Linux** (x86): `\"path/to/Reacher_Linux/Reacher.x86\"`\n",
    "- **Linux** (x86_64): `\"path/to/Reacher_Linux/Reacher.x86_64\"`\n",
    "- **Linux** (x86, headless): `\"path/to/Reacher_Linux_NoVis/Reacher.x86\"`\n",
    "- **Linux** (x86_64, headless): `\"path/to/Reacher_Linux_NoVis/Reacher.x86_64\"`\n",
    "\n",
    "For instance, if you are using a Mac, then you downloaded `Reacher.app`.  If this file is in the same folder as the notebook, then the line below should appear as follows:\n",
    "```\n",
    "env = UnityEnvironment(file_name=\"Reacher.app\")\n",
    "```"
   ]
  },
  {
   "cell_type": "code",
   "execution_count": 2,
   "metadata": {},
   "outputs": [
    {
     "name": "stderr",
     "output_type": "stream",
     "text": [
      "INFO:unityagents:\n",
      "'Academy' started successfully!\n",
      "Unity Academy name: Academy\n",
      "        Number of Brains: 1\n",
      "        Number of External Brains : 1\n",
      "        Lesson number : 0\n",
      "        Reset Parameters :\n",
      "\t\tgoal_speed -> 1.0\n",
      "\t\tgoal_size -> 5.0\n",
      "Unity brain name: ReacherBrain\n",
      "        Number of Visual Observations (per agent): 0\n",
      "        Vector Observation space type: continuous\n",
      "        Vector Observation space size (per agent): 33\n",
      "        Number of stacked Vector Observation: 1\n",
      "        Vector Action space type: continuous\n",
      "        Vector Action space size (per agent): 4\n",
      "        Vector Action descriptions: , , , \n"
     ]
    }
   ],
   "source": [
    "os_file = 'Reacher_Windows_x86_64/Reacher.exe'\n",
    "# os_file = 'Reacher_Linux/Reacher.x86_64' # 'Reacher_Linux_NoVis/Reacher.x86_64'\n",
    "env = UnityEnvironment(file_name=os_file)"
   ]
  },
  {
   "cell_type": "markdown",
   "metadata": {},
   "source": [
    "Environments contain **_brains_** which are responsible for deciding the actions of their associated agents. Here we check for the first brain available, and set it as the default brain we will be controlling from Python."
   ]
  },
  {
   "cell_type": "code",
   "execution_count": 3,
   "metadata": {},
   "outputs": [],
   "source": [
    "# get the default brain\n",
    "brain_name = env.brain_names[0]\n",
    "brain = env.brains[brain_name]"
   ]
  },
  {
   "cell_type": "markdown",
   "metadata": {},
   "source": [
    "### 2. Examine the State and Action Spaces\n",
    "\n",
    "In this environment, a double-jointed arm can move to target locations. A reward of `+0.1` is provided for each step that the agent's hand is in the goal location. Thus, the goal of your agent is to maintain its position at the target location for as many time steps as possible.\n",
    "\n",
    "The observation space consists of `33` variables corresponding to position, rotation, velocity, and angular velocities of the arm.  Each action is a vector with four numbers, corresponding to torque applicable to two joints.  Every entry in the action vector must be a number between `-1` and `1`.\n",
    "\n",
    "Run the code cell below to print some information about the environment."
   ]
  },
  {
   "cell_type": "code",
   "execution_count": 4,
   "metadata": {
    "scrolled": true
   },
   "outputs": [
    {
     "name": "stdout",
     "output_type": "stream",
     "text": [
      "Number of agents: 20\n",
      "Size of each action: 4\n",
      "action description:  ['', '', '', '']\n",
      "vector_observations have shape:  (20, 33)\n",
      "There are 20 agents. Each observes a state with length: 33\n",
      "States is type:  <class 'numpy.ndarray'>\n"
     ]
    }
   ],
   "source": [
    "# reset the environment\n",
    "env_info = env.reset(train_mode=True)[brain_name]\n",
    "\n",
    "# number of agents\n",
    "num_agents = len(env_info.agents)\n",
    "# size of each action\n",
    "action_size = brain.vector_action_space_size\n",
    "# size of the state space \n",
    "states = env_info.vector_observations\n",
    "state_size = states.shape[1]\n",
    "\n",
    "print('Number of agents:', num_agents)\n",
    "print('Size of each action:', action_size)\n",
    "print('action description: ',brain.vector_action_descriptions)\n",
    "print('vector_observations have shape: ',states.shape)\n",
    "print('There are {} agents. Each observes a state with length: {}'.format(states.shape[0], state_size))\n",
    "print('States is type: ',type(states))"
   ]
  },
  {
   "cell_type": "markdown",
   "metadata": {},
   "source": [
    "### 3. Take Random Actions in the Environment\n",
    "\n",
    "In the next code cell, you will learn how to use the Python API to control the agent and receive feedback from the environment.\n",
    "\n",
    "Once this cell is executed, you will watch the agent's performance, if it selects an action at random with each time step.  A window should pop up that allows you to observe the agent, as it moves through the environment.  \n",
    "\n",
    "Of course, as part of the project, you'll have to change the code so that the agent is able to use its experience to gradually choose better actions when interacting with the environment!"
   ]
  },
  {
   "cell_type": "code",
   "execution_count": 5,
   "metadata": {},
   "outputs": [
    {
     "name": "stdout",
     "output_type": "stream",
     "text": [
      "using device:  cpu\n"
     ]
    }
   ],
   "source": [
    "import time\n",
    "import numpy as np\n",
    "# keep track of how long training takes\n",
    "# widget bar to display progress\n",
    "#!pip install progressbar\n",
    "import matplotlib.pyplot as plt\n",
    "import progressbar as pb\n",
    "import torch\n",
    "import torch.optim as optim\n",
    "import torch.nn as nn\n",
    "from ACnets import Policy, Critic\n",
    "\n",
    "# Get device available\n",
    "device = torch.device(\"cuda:0\" if torch.cuda.is_available() else \"cpu\")\n",
    "print(\"using device: \",device)\n"
   ]
  },
  {
   "cell_type": "markdown",
   "metadata": {},
   "source": [
    "When finished, you can close the environment."
   ]
  },
  {
   "cell_type": "code",
   "execution_count": 10,
   "metadata": {},
   "outputs": [],
   "source": [
    "def get_samples(env, policy, critic, train_mode=True):\n",
    "    brain_name = env.brain_names[0]\n",
    "    env_info = env.reset(train_mode=train_mode)[brain_name]     # reset the environment    \n",
    "    # get the current state (for each agent)\n",
    "    states = env_info.vector_observations \n",
    "    # initialize containers\n",
    "    scores = np.zeros(num_agents)                          \n",
    "    States, LogPs, Actions, Rewards, Vs = [], [], [], [], []\n",
    "    #loop until episode is done\n",
    "    while True:\n",
    "        states = torch.tensor(states,dtype=torch.float,device=device)\n",
    "        log_Ps, actions = policy(states)\n",
    "        #actions = mu_actions + noise*np.random.randn(num_agents, action_size) # select an action (for each agent)\n",
    "        actions = actions.cpu().detach().numpy()\n",
    "        a = np.clip(actions, -1, 1) # all actions between -1 and 1\n",
    "        env_info = env.step(a)[brain_name]           # send all actions to tne environment\n",
    "        next_states = env_info.vector_observations         # get next state (for each agent)\n",
    "        rewards = env_info.rewards                         # get reward (for each agent)\n",
    "        dones = env_info.local_done                        # see if episode finished\n",
    "        scores += env_info.rewards                         # update the score (for each agent)\n",
    "        s_vals = critic(states).cpu().detach().numpy()     # get state value\n",
    "        #add info to episode lists\n",
    "        States.append(states.cpu().detach().numpy())\n",
    "        LogPs.append(log_Ps.cpu().detach().numpy())\n",
    "        Actions.append(actions)\n",
    "        Rewards.append(np.array(rewards))\n",
    "        Vs.append(s_vals)\n",
    "        #perform step\n",
    "        states = next_states                               # roll over states to next time step\n",
    "        if np.any(dones):                                  # exit loop if episode finished\n",
    "            break\n",
    "    \n",
    "    States = np.asarray(States)\n",
    "    LogPs = np.asarray(LogPs)\n",
    "    Actions = np.asarray(Actions)\n",
    "    Rewards = np.asarray(Rewards)\n",
    "    Vs = np.squeeze(np.asarray(Vs))\n",
    "    return States, LogPs, Actions, Rewards, Vs, scores"
   ]
  },
  {
   "cell_type": "markdown",
   "metadata": {},
   "source": [
    "### 4. It's Your Turn!\n",
    "\n",
    "Now it's your turn to train your own agent to solve the environment!  When training the environment, set `train_mode=True`, so that the line for resetting the environment looks like the following:\n",
    "```python\n",
    "env_info = env.reset(train_mode=True)[brain_name]\n",
    "```"
   ]
  },
  {
   "cell_type": "code",
   "execution_count": 7,
   "metadata": {},
   "outputs": [],
   "source": [
    "def norm_returns(rewards, discount):\n",
    "    discouted_rewards =  np.asarray([rewards[i]*discount**i for i in range(len(rewards))],dtype=np.float32)\n",
    "    #convert to future rewards\n",
    "    future_rewards = np.cumsum(discouted_rewards[::-1],axis=0)[::-1]\n",
    "    returns = future_rewards.copy()\n",
    "    #normalize rewards\n",
    "#     mu = np.mean(future_rewards,axis=1)\n",
    "#     stdv = np.std(future_rewards,axis=1) + 1.e-10\n",
    "#     returns = (future_rewards - mu[:,np.newaxis])/stdv[:,np.newaxis]\n",
    "#     print(returns.shape)\n",
    "    return returns\n",
    "\n",
    "def advantage_estimate(rewards, discount, Vs, lmda):\n",
    "    V_next = np.concatenate((Vs[1:],np.zeros(Vs[0].shape)[np.newaxis]),axis=0)\n",
    "    TD_error = rewards + discount*V_next - Vs\n",
    "    truncation_weights = [[(discount*lmda)**i] for i in range(len(rewards))]\n",
    "    advantage = [np.sum(TD_error[i:]*truncation_weights[::-1][i:][::-1],axis=0) for i in range(len(rewards))]\n",
    "    advantage = np.asarray(advantage)\n",
    "    return advantage\n",
    "\n",
    "def PPO(policy, states, log_ps, actions, advantage, epsilon=0.1, debug=False):\n",
    "    if debug:\n",
    "        print(states.shape, actions.shape)\n",
    "\n",
    "    # convert states to policy\n",
    "    new_logPs, _ = policy(states, actions)\n",
    "    #compute probabilities ratio = new_probs/old_probs\n",
    "    Delta = new_logPs - log_ps\n",
    "    ratio = torch.exp(Delta)\n",
    "    if debug:\n",
    "        print(ratio)\n",
    "        print(Delta)\n",
    "\n",
    "    #compute returns and clipped function\n",
    "    min_ratio = torch.min(advantage*ratio, advantage*torch.clamp(ratio, 1-epsilon, 1+epsilon))\n",
    "    \n",
    "    return -torch.mean(min_ratio)\n",
    "\n",
    "def Lcritic(critic, states, returns_estimation):\n",
    "    # convert states to value\n",
    "    values = critic(states).view(-1)\n",
    "    return torch.nn.functional.mse_loss(returns_estimation, values)\n",
    "\n",
    "def get_minibatches(data_size, batch_size, suffle=True):\n",
    "    indices = np.arange(data_size)\n",
    "    if suffle:\n",
    "        np.random.shuffle(indices)\n",
    "    for mb in range(0,data_size-batch_size + 1, batch_size):\n",
    "        get_indx = indices[mb:mb+batch_size]\n",
    "        yield get_indx"
   ]
  },
  {
   "cell_type": "code",
   "execution_count": 11,
   "metadata": {},
   "outputs": [
    {
     "name": "stdout",
     "output_type": "stream",
     "text": [
      "Actor has input size 33  hidden layer 1 size:  256  hidden layer 2 size:  256  action_size 4\n",
      "Critic has input size 33  hidden layer 1 size:  256  hidden layer 2 size:  256\n"
     ]
    }
   ],
   "source": [
    "# initialize actor and critic \n",
    "policy = Policy(state_size, action_size).to(device)\n",
    "critic = Critic(state_size).to(device)"
   ]
  },
  {
   "cell_type": "code",
   "execution_count": 12,
   "metadata": {},
   "outputs": [
    {
     "name": "stdout",
     "output_type": "stream",
     "text": [
      "0.19899999555200337\n",
      "(1001, 20, 33) (1001, 20) (1001, 20, 4) (1001, 20) (1001, 20)\n"
     ]
    }
   ],
   "source": [
    "States, LogPs, Actions, Rewards, Vs, scores = get_samples(env, policy, critic)\n",
    "print(np.mean(scores))\n",
    "print(States.shape, LogPs.shape, Actions.shape, Rewards.shape, Vs.shape)"
   ]
  },
  {
   "cell_type": "code",
   "execution_count": 13,
   "metadata": {},
   "outputs": [
    {
     "name": "stdout",
     "output_type": "stream",
     "text": [
      "1.3338421750813723 -0.9844527244567871\n",
      "0.59999996 0.0\n",
      "(1001, 20) (1001, 20)\n"
     ]
    },
    {
     "data": {
      "image/png": "[encoded data removed]",
      "text/plain": [
       "<Figure size 432x288 with 1 Axes>"
      ]
     },
     "metadata": {
      "needs_background": "light"
     },
     "output_type": "display_data"
    }
   ],
   "source": [
    "discount, lmda = 1,1\n",
    "Adv = advantage_estimate(Rewards, discount, Vs, lmda)\n",
    "print(Adv.max(),Adv.min())\n",
    "Ret = norm_returns(Rewards, discount)\n",
    "print(Ret.max(),Ret.min())\n",
    "print(Adv.shape,Ret.shape)\n",
    "plt.figure()\n",
    "plt.hist(Adv)\n",
    "plt.show()"
   ]
  },
  {
   "cell_type": "code",
   "execution_count": 14,
   "metadata": {},
   "outputs": [
    {
     "name": "stdout",
     "output_type": "stream",
     "text": [
      "torch.Size([20020, 33]) torch.Size([20020, 4])\n",
      "tensor([1.0000, 1.0000, 1.0000,  ..., 1.0000, 1.0000, 1.0000],\n",
      "       grad_fn=<ExpBackward>)\n",
      "tensor([ 0.0000e+00,  0.0000e+00,  0.0000e+00,  ...,  0.0000e+00,\n",
      "         0.0000e+00, -4.7684e-07], grad_fn=<SubBackward0>)\n"
     ]
    }
   ],
   "source": [
    "States = torch.tensor(States, dtype=torch.float, device=device).view(-1,States.shape[-1])\n",
    "Adv = torch.tensor(Adv, dtype=torch.float, device=device).view(-1)\n",
    "Actions = torch.tensor(Actions, dtype=torch.float, device=device).view(-1,Actions.shape[-1])\n",
    "LogPs = torch.tensor(LogPs, dtype=torch.float, device=device).view(-1)\n",
    "\n",
    "loss = PPO(policy, States, LogPs, Actions, Adv, epsilon=0.2, debug=True)"
   ]
  },
  {
   "cell_type": "code",
   "execution_count": 29,
   "metadata": {},
   "outputs": [],
   "source": [
    "#When working in udacity's workspace, avoid sleeping:\n",
    "#from workspace_utils import keep_awake --> keep_awake(range(episode))\n",
    "\n",
    "# hyper-parameters\n",
    "episode = 50\n",
    "# noise=1., noise_decay=0.98\n",
    "def train(envs, policy, critic, episode, lr_act=2e-4, lr_crit=2e-4, discount=.99, lmda=0.95,\n",
    "          epsilon=0.2, SGD_epoch=3, batch_size=64):\n",
    "    \n",
    "    widget = ['training loop: ', pb.Percentage(), ' ', pb.Bar(), ' ', pb.ETA() ]\n",
    "    timer = pb.ProgressBar(widgets=widget, maxval=episode).start()\n",
    "    \n",
    "    optimizer = optim.Adam(policy.parameters(), lr=lr_act)\n",
    "    critic_optimizer = optim.Adam(critic.parameters(), lr=lr_crit)\n",
    "\n",
    "    # keep track of progress\n",
    "    mean_rewards = []\n",
    "    ploss = []\n",
    "    closs = []\n",
    "\n",
    "    for e in range(episode):\n",
    "\n",
    "        # collect trajectories\n",
    "        States, LogPs, Actions, Rewards, Vs, scores = get_samples(envs, policy, critic)\n",
    "        # return estimation \n",
    "        returns_estimation = norm_returns(Rewards, discount)\n",
    "        #get advantage estimation\n",
    "        advantage = advantage_estimate(Rewards, discount, Vs, lmda)\n",
    "        #normalize advantage\n",
    "        advantage = (advantage - np.mean(advantage))/(np.std(advantage)+1.e-10) \n",
    "\n",
    "        total_rewards = np.sum(Rewards, axis=0)\n",
    "\n",
    "        #transform to tensors and flatten: States, LogPs, Actions, advantage,returns_estimation\n",
    "        States = torch.tensor(States, dtype=torch.float, device=device).view(-1,States.shape[-1])\n",
    "        returns_estimation = torch.tensor(returns_estimation, dtype=torch.float, device=device).view(-1)\n",
    "        advantage = torch.tensor(advantage, dtype=torch.float, device=device).view(-1)\n",
    "        Actions = torch.tensor(Actions, dtype=torch.float, device=device).view(-1,Actions.shape[-1])\n",
    "        LogPs = torch.tensor(LogPs, dtype=torch.float, device=device).view(-1)\n",
    "\n",
    "        # gradient ascent step\n",
    "        for _ in range(SGD_epoch):\n",
    "            \n",
    "            for minibatch in get_minibatches(len(States), batch_size):\n",
    "                states, log_ps, actions, adv = States[minibatch], LogPs[minibatch], Actions[minibatch], advantage[minibatch]\n",
    "                returns = returns_estimation[minibatch]\n",
    "#                 print(states.shape, m_act.shape, actions.shape, adv.shape, returns.shape)\n",
    "                #PPO return function\n",
    "                policy_loss = PPO(policy, states, log_ps, actions, adv, epsilon=epsilon)\n",
    "                # Critic loss\n",
    "                critic_loss = Lcritic(critic, states, returns)\n",
    "                #update policy\n",
    "                optimizer.zero_grad()\n",
    "                policy_loss.backward()\n",
    "#                 nn.utils.clip_grad_norm_(policy.parameters(), 5)\n",
    "                optimizer.step()\n",
    "                #update critic\n",
    "                critic_optimizer.zero_grad()\n",
    "                critic_loss.backward()\n",
    "#                 nn.utils.clip_grad_norm_(critic.parameters(), 5)\n",
    "                critic_optimizer.step()\n",
    "                \n",
    "            policy_loss = PPO(policy, States, LogPs, Actions, advantage, epsilon=epsilon)\n",
    "            critic_loss = Lcritic(critic, States, returns_estimation)  \n",
    "            ploss.append(policy_loss.data)\n",
    "            closs.append(critic_loss.data)\n",
    "                \n",
    "            #print(policy_loss.data)\n",
    "        # the clipping parameter and noise reduces as time goes on\n",
    "        epsilon*=.999\n",
    "#         noise *= noise_decay # this reduces exploration in later runs\n",
    "\n",
    "        # get the average reward of the parallel environments\n",
    "        mean_rewards.append(np.mean(total_rewards))\n",
    "\n",
    "        # display some progress every 20 iterations\n",
    "        if (e+1)%5 ==0 :\n",
    "            print(\"Episode: {0:d}, score (averaged over agents): {1:f}\".format(e+1,np.mean(total_rewards)))\n",
    "            print(\"Policy loss: {} | Critic loss: {}\".format(policy_loss.data,critic_loss.data))\n",
    "            #print(total_rewards)\n",
    "\n",
    "        # update progress widget bar\n",
    "        timer.update(e+1)\n",
    "\n",
    "    timer.finish()\n",
    "    return mean_rewards, ploss, closs"
   ]
  },
  {
   "cell_type": "code",
   "execution_count": 34,
   "metadata": {},
   "outputs": [
    {
     "name": "stdout",
     "output_type": "stream",
     "text": [
      "Actor has input size 33  hidden layer 1 size:  256  hidden layer 2 size:  256  action_size 4\n",
      "Critic has input size 33  hidden layer 1 size:  256  hidden layer 2 size:  256\n"
     ]
    }
   ],
   "source": [
    "inputsize, action_size = state_size, action_size\n",
    "policy = Policy(inputsize, action_size).to(device)\n",
    "critic = Critic(inputsize).to(device)"
   ]
  },
  {
   "cell_type": "code",
   "execution_count": null,
   "metadata": {
    "scrolled": false
   },
   "outputs": [
    {
     "name": "stderr",
     "output_type": "stream",
     "text": [
      "training loop:  20% |########                                   | ETA:  0:15:26\r"
     ]
    },
    {
     "name": "stdout",
     "output_type": "stream",
     "text": [
      "Episode: 5, score (averaged over agents): 0.261500\n",
      "Policy loss: -0.03543652221560478 | Critic loss: 4.780794188263826e-05\n"
     ]
    },
    {
     "name": "stderr",
     "output_type": "stream",
     "text": [
      "training loop:  40% |#################                          | ETA:  0:11:49\r"
     ]
    },
    {
     "name": "stdout",
     "output_type": "stream",
     "text": [
      "Episode: 10, score (averaged over agents): 0.771500\n",
      "Policy loss: -0.04526160657405853 | Critic loss: 3.666790507850237e-05\n"
     ]
    }
   ],
   "source": [
    "mean_rewards, ploss, closs = train(env, policy, critic, 25, SGD_epoch=10)\n",
    "# I need to stabilize learning. Possible ways:\n",
    "#  1. decrease noise_decay (tested 0.98 but maybe a bit smaller) -> not working\n",
    "#  2. decrease epsilon to 0.1 -> not working\n",
    "#  3. implement noise learning -> works!\n",
    "#--- clipping gradient?\n",
    "\n",
    "# Save actor and critic\n",
    "# torch.save(policy.state_dict(), 'Reacher.policy')\n",
    "# torch.save(critic.state_dict(), 'Reacher.critic')\n",
    "# print('Networks saved')"
   ]
  },
  {
   "cell_type": "code",
   "execution_count": 33,
   "metadata": {},
   "outputs": [
    {
     "data": {
      "text/plain": [
       "Text(0.5, 1.0, 'Critic loss')"
      ]
     },
     "execution_count": 33,
     "metadata": {},
     "output_type": "execute_result"
    },
    {
     "data": {
      "image/png": "[encoded data removed]",
      "text/plain": [
       "<Figure size 432x288 with 1 Axes>"
      ]
     },
     "metadata": {
      "needs_background": "light"
     },
     "output_type": "display_data"
    },
    {
     "data": {
      "image/png": "[encoded data removed]",
      "text/plain": [
       "<Figure size 1008x360 with 2 Axes>"
      ]
     },
     "metadata": {
      "needs_background": "light"
     },
     "output_type": "display_data"
    }
   ],
   "source": [
    "plt.figure()\n",
    "plt.plot(mean_rewards,'.-')\n",
    "plt.title(\"Mean rewards\")\n",
    "plt.figure(figsize=(14,5))\n",
    "plt.subplot(121)\n",
    "plt.plot(ploss[-100:],'.-')\n",
    "plt.title(\"Policy loss\")\n",
    "plt.subplot(122)\n",
    "plt.plot(closs[-100:],'.-')\n",
    "plt.title(\"Critic loss\")\n",
    "#[:100]"
   ]
  },
  {
   "cell_type": "code",
   "execution_count": 71,
   "metadata": {},
   "outputs": [
    {
     "name": "stdout",
     "output_type": "stream",
     "text": [
      "[(0, 1.0), (1, 0.97), (2, 0.9409), (3, 0.912673), (4, 0.8852928099999999), (5, 0.8587340256999999), (6, 0.8329720049289998), (7, 0.8079828447811298), (8, 0.7837433594376959), (9, 0.7602310586545651), (10, 0.7374241268949281), (11, 0.7153014030880802), (12, 0.6938423609954377), (13, 0.6730270901655746), (14, 0.6528362774606074), (15, 0.6332511891367891), (16, 0.6142536534626855), (17, 0.5958260438588049), (18, 0.5779512625430407), (19, 0.5606127246667495), (20, 0.543794342926747), (21, 0.5274805126389446), (22, 0.5116560972597762), (23, 0.49630641434198286), (24, 0.48141722191172337), (25, 0.4669747052543717), (26, 0.4529654640967405), (27, 0.4393765001738383), (28, 0.42619520516862314), (29, 0.4134093490135644), (30, 0.4010070685431575), (31, 0.38897685648686275), (32, 0.37730755079225686), (33, 0.36598832426848915), (34, 0.35500867454043444), (35, 0.3443584143042214), (36, 0.33402766187509475), (37, 0.3240068320188419), (38, 0.31428662705827665), (39, 0.3048580282465283), (40, 0.29571228739913247), (41, 0.2868409187771585), (42, 0.2782356912138437), (43, 0.2698886204774284), (44, 0.26179196186310555), (45, 0.25393820300721237), (46, 0.246320056916996), (47, 0.2389304552094861), (48, 0.23176254155320153), (49, 0.22480966530660546)]\n"
     ]
    }
   ],
   "source": [
    "print([(i, 0.97**i) for i in range(50)])"
   ]
  },
  {
   "cell_type": "code",
   "execution_count": null,
   "metadata": {},
   "outputs": [],
   "source": [
    "env.close()"
   ]
  },
  {
   "cell_type": "code",
   "execution_count": 79,
   "metadata": {},
   "outputs": [
    {
     "name": "stdout",
     "output_type": "stream",
     "text": [
      "Parameter containing:\n",
      "tensor([[1., 1., 1., 1.]], requires_grad=True)\n"
     ]
    }
   ],
   "source": [
    "import torch.nn as nn\n",
    "std = nn.Parameter(torch.ones(1, action_size))\n",
    "print(std)"
   ]
  },
  {
   "cell_type": "code",
   "execution_count": 55,
   "metadata": {},
   "outputs": [],
   "source": [
    "def testfunc(x,*args):\n",
    "    if len(args)==0:\n",
    "        print(f'There is only x with value {x}')\n",
    "    elif len(args)==1:\n",
    "        print(f'x is {x} and args is {args[0]}')\n",
    "    else:\n",
    "        print('Too many arguments, give only one arg extra')\n",
    "    return x, args"
   ]
  },
  {
   "cell_type": "code",
   "execution_count": 56,
   "metadata": {},
   "outputs": [
    {
     "name": "stdout",
     "output_type": "stream",
     "text": [
      "There is only x with value 1\n",
      "x is 1 and args is 3.3333\n",
      "Too many arguments, give only one arg extra\n"
     ]
    }
   ],
   "source": [
    "x, y = testfunc(1)\n",
    "x, y = testfunc(1,3.3333)\n",
    "x, y = testfunc(x,2*x,6)"
   ]
  },
  {
   "cell_type": "code",
   "execution_count": 23,
   "metadata": {},
   "outputs": [
    {
     "data": {
      "text/plain": [
       "0.1902411256394063"
      ]
     },
     "execution_count": 23,
     "metadata": {},
     "output_type": "execute_result"
    }
   ],
   "source": [
    "0.2*(0.999)**50"
   ]
  },
  {
   "cell_type": "code",
   "execution_count": null,
   "metadata": {},
   "outputs": [],
   "source": []
  }
 ],
 "metadata": {
  "kernelspec": {
   "display_name": "drlnd",
   "language": "python",
   "name": "drlnd"
  },
  "language_info": {
   "codemirror_mode": {
    "name": "ipython",
    "version": 3
   },
   "file_extension": ".py",
   "mimetype": "text/x-python",
   "name": "python",
   "nbconvert_exporter": "python",
   "pygments_lexer": "ipython3",
   "version": "3.6.8"
  }
 },
 "nbformat": 4,
 "nbformat_minor": 2
}
